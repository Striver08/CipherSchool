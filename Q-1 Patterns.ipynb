{
 "cells": [
  {
   "cell_type": "markdown",
   "metadata": {},
   "source": [
    "### Part-1 "
   ]
  },
  {
   "cell_type": "code",
   "execution_count": 5,
   "metadata": {},
   "outputs": [
    {
     "name": "stdout",
     "output_type": "stream",
     "text": [
      "Enter the number of line: 5\n",
      "        * \n",
      "\n",
      "      * * \n",
      "\n",
      "    * * * \n",
      "\n",
      "  * * * * \n",
      "\n",
      "* * * * * \n",
      "\n"
     ]
    }
   ],
   "source": [
    "n = int(input(\"Enter the number of line: \"))\n",
    "whiteSpace = 2*n - 2\n",
    "\n",
    "for i in range(0, n):\n",
    "\n",
    "    for j in range(0, whiteSpace):\n",
    "        print(end=\" \")\n",
    "\n",
    "    # decrementing k after each loop\n",
    "    whiteSpace = whiteSpace - 2\n",
    "\n",
    "    # inner loop to handle number of columns\n",
    "    # values changing acc. to outer loop\n",
    "    for j in range(0, i+1):\n",
    "\n",
    "        # printing stars\n",
    "        print(\"* \", end=\"\")\n",
    "\n",
    "    # ending line after each row\n",
    "    print(\"\\n\")"
   ]
  },
  {
   "cell_type": "code",
   "execution_count": null,
   "metadata": {},
   "outputs": [],
   "source": []
  }
 ],
 "metadata": {
  "kernelspec": {
   "display_name": "Python 3",
   "language": "python",
   "name": "python3"
  },
  "language_info": {
   "codemirror_mode": {
    "name": "ipython",
    "version": 3
   },
   "file_extension": ".py",
   "mimetype": "text/x-python",
   "name": "python",
   "nbconvert_exporter": "python",
   "pygments_lexer": "ipython3",
   "version": "3.7.9"
  }
 },
 "nbformat": 4,
 "nbformat_minor": 4
}
